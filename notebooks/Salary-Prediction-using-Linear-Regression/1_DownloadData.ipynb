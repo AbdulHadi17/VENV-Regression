{
 "cells": [
  {
   "cell_type": "markdown",
   "id": "cab2e83b",
   "metadata": {},
   "source": [
    "### Download Data from Kaggle\n",
    "---"
   ]
  },
  {
   "cell_type": "code",
   "execution_count": 1,
   "id": "18f62d29",
   "metadata": {},
   "outputs": [],
   "source": [
    "import os"
   ]
  },
  {
   "cell_type": "code",
   "execution_count": null,
   "id": "6230a431",
   "metadata": {},
   "outputs": [
    {
     "name": "stdout",
     "output_type": "stream",
     "text": [
      "Dataset URL: https://www.kaggle.com/datasets/rkiattisak/salaly-prediction-for-beginer\n",
      "License(s): Attribution 4.0 International (CC BY 4.0)\n",
      "Downloading salaly-prediction-for-beginer.zip to ../data\n",
      "\n",
      "Dataset downloaded and unzipped into the './data/' folder.\n",
      "\n",
      "Files in the data directory:\n",
      "['Salary Data.csv']\n"
     ]
    },
    {
     "name": "stderr",
     "output_type": "stream",
     "text": [
      "\n",
      "  0%|          | 0.00/3.20k [00:00<?, ?B/s]\n",
      "100%|██████████| 3.20k/3.20k [00:00<00:00, 3.40MB/s]\n"
     ]
    }
   ],
   "source": [
    "\n",
    "!kaggle datasets download -d rkiattisak/salaly-prediction-for-beginer -p ../../data --unzip\n",
    "\n",
    "\n",
    "\n",
    "print(\"Dataset downloaded and unzipped into the '../../data/' folder.\")\n",
    "\n",
    "# List the files to confirm the download\n",
    "print(\"\\nFiles in the data directory:\")\n",
    "print(os.listdir('../../data'))\n"
   ]
  }
 ],
 "metadata": {
  "kernelspec": {
   "display_name": "venv",
   "language": "python",
   "name": "python3"
  },
  "language_info": {
   "codemirror_mode": {
    "name": "ipython",
    "version": 3
   },
   "file_extension": ".py",
   "mimetype": "text/x-python",
   "name": "python",
   "nbconvert_exporter": "python",
   "pygments_lexer": "ipython3",
   "version": "3.13.0"
  }
 },
 "nbformat": 4,
 "nbformat_minor": 5
}
