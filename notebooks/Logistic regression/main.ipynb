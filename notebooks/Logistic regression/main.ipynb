{
 "cells": [
  {
   "cell_type": "markdown",
   "id": "c7ab1321",
   "metadata": {},
   "source": [
    "# Loan Approval Classifier Project\n",
    "---"
   ]
  },
  {
   "cell_type": "code",
   "execution_count": 66,
   "id": "232aac39",
   "metadata": {},
   "outputs": [],
   "source": [
    "#All the imports\n",
    "\n",
    "import pandas as pd\n",
    "import numpy as np\n",
    "import seaborn as sns\n",
    "from sklearn.model_selection import train_test_split, KFold, cross_val_score\n",
    "from sklearn.linear_model import LogisticRegression\n",
    "from sklearn.metrics import mean_squared_error, mean_absolute_error, r2_score\n",
    "from math import sqrt\n",
    "import matplotlib.pyplot as plt\n",
    "from statsmodels.stats.outliers_influence import variance_inflation_factor\n",
    "from sklearn.preprocessing import OneHotEncoder, OrdinalEncoder, LabelEncoder\n",
    "from sklearn.preprocessing import StandardScaler"
   ]
  },
  {
   "cell_type": "markdown",
   "id": "3891c6f1",
   "metadata": {},
   "source": [
    "---\n",
    "### Now lets load the dataset and take a look at the first few rows.\n",
    "---"
   ]
  },
  {
   "cell_type": "code",
   "execution_count": 67,
   "id": "123eb757",
   "metadata": {},
   "outputs": [
    {
     "data": {
      "text/html": [
       "<div>\n",
       "<style scoped>\n",
       "    .dataframe tbody tr th:only-of-type {\n",
       "        vertical-align: middle;\n",
       "    }\n",
       "\n",
       "    .dataframe tbody tr th {\n",
       "        vertical-align: top;\n",
       "    }\n",
       "\n",
       "    .dataframe thead th {\n",
       "        text-align: right;\n",
       "    }\n",
       "</style>\n",
       "<table border=\"1\" class=\"dataframe\">\n",
       "  <thead>\n",
       "    <tr style=\"text-align: right;\">\n",
       "      <th></th>\n",
       "      <th>person_age</th>\n",
       "      <th>person_gender</th>\n",
       "      <th>person_education</th>\n",
       "      <th>person_income</th>\n",
       "      <th>person_emp_exp</th>\n",
       "      <th>person_home_ownership</th>\n",
       "      <th>loan_amnt</th>\n",
       "      <th>loan_intent</th>\n",
       "      <th>loan_int_rate</th>\n",
       "      <th>loan_percent_income</th>\n",
       "      <th>cb_person_cred_hist_length</th>\n",
       "      <th>credit_score</th>\n",
       "      <th>previous_loan_defaults_on_file</th>\n",
       "      <th>loan_status</th>\n",
       "    </tr>\n",
       "  </thead>\n",
       "  <tbody>\n",
       "    <tr>\n",
       "      <th>0</th>\n",
       "      <td>22.0</td>\n",
       "      <td>female</td>\n",
       "      <td>Master</td>\n",
       "      <td>71948.0</td>\n",
       "      <td>0</td>\n",
       "      <td>RENT</td>\n",
       "      <td>35000.0</td>\n",
       "      <td>PERSONAL</td>\n",
       "      <td>16.02</td>\n",
       "      <td>0.49</td>\n",
       "      <td>3.0</td>\n",
       "      <td>561</td>\n",
       "      <td>No</td>\n",
       "      <td>1</td>\n",
       "    </tr>\n",
       "    <tr>\n",
       "      <th>1</th>\n",
       "      <td>21.0</td>\n",
       "      <td>female</td>\n",
       "      <td>High School</td>\n",
       "      <td>12282.0</td>\n",
       "      <td>0</td>\n",
       "      <td>OWN</td>\n",
       "      <td>1000.0</td>\n",
       "      <td>EDUCATION</td>\n",
       "      <td>11.14</td>\n",
       "      <td>0.08</td>\n",
       "      <td>2.0</td>\n",
       "      <td>504</td>\n",
       "      <td>Yes</td>\n",
       "      <td>0</td>\n",
       "    </tr>\n",
       "    <tr>\n",
       "      <th>2</th>\n",
       "      <td>25.0</td>\n",
       "      <td>female</td>\n",
       "      <td>High School</td>\n",
       "      <td>12438.0</td>\n",
       "      <td>3</td>\n",
       "      <td>MORTGAGE</td>\n",
       "      <td>5500.0</td>\n",
       "      <td>MEDICAL</td>\n",
       "      <td>12.87</td>\n",
       "      <td>0.44</td>\n",
       "      <td>3.0</td>\n",
       "      <td>635</td>\n",
       "      <td>No</td>\n",
       "      <td>1</td>\n",
       "    </tr>\n",
       "    <tr>\n",
       "      <th>3</th>\n",
       "      <td>23.0</td>\n",
       "      <td>female</td>\n",
       "      <td>Bachelor</td>\n",
       "      <td>79753.0</td>\n",
       "      <td>0</td>\n",
       "      <td>RENT</td>\n",
       "      <td>35000.0</td>\n",
       "      <td>MEDICAL</td>\n",
       "      <td>15.23</td>\n",
       "      <td>0.44</td>\n",
       "      <td>2.0</td>\n",
       "      <td>675</td>\n",
       "      <td>No</td>\n",
       "      <td>1</td>\n",
       "    </tr>\n",
       "    <tr>\n",
       "      <th>4</th>\n",
       "      <td>24.0</td>\n",
       "      <td>male</td>\n",
       "      <td>Master</td>\n",
       "      <td>66135.0</td>\n",
       "      <td>1</td>\n",
       "      <td>RENT</td>\n",
       "      <td>35000.0</td>\n",
       "      <td>MEDICAL</td>\n",
       "      <td>14.27</td>\n",
       "      <td>0.53</td>\n",
       "      <td>4.0</td>\n",
       "      <td>586</td>\n",
       "      <td>No</td>\n",
       "      <td>1</td>\n",
       "    </tr>\n",
       "  </tbody>\n",
       "</table>\n",
       "</div>"
      ],
      "text/plain": [
       "   person_age person_gender person_education  person_income  person_emp_exp  \\\n",
       "0        22.0        female           Master        71948.0               0   \n",
       "1        21.0        female      High School        12282.0               0   \n",
       "2        25.0        female      High School        12438.0               3   \n",
       "3        23.0        female         Bachelor        79753.0               0   \n",
       "4        24.0          male           Master        66135.0               1   \n",
       "\n",
       "  person_home_ownership  loan_amnt loan_intent  loan_int_rate  \\\n",
       "0                  RENT    35000.0    PERSONAL          16.02   \n",
       "1                   OWN     1000.0   EDUCATION          11.14   \n",
       "2              MORTGAGE     5500.0     MEDICAL          12.87   \n",
       "3                  RENT    35000.0     MEDICAL          15.23   \n",
       "4                  RENT    35000.0     MEDICAL          14.27   \n",
       "\n",
       "   loan_percent_income  cb_person_cred_hist_length  credit_score  \\\n",
       "0                 0.49                         3.0           561   \n",
       "1                 0.08                         2.0           504   \n",
       "2                 0.44                         3.0           635   \n",
       "3                 0.44                         2.0           675   \n",
       "4                 0.53                         4.0           586   \n",
       "\n",
       "  previous_loan_defaults_on_file  loan_status  \n",
       "0                             No            1  \n",
       "1                            Yes            0  \n",
       "2                             No            1  \n",
       "3                             No            1  \n",
       "4                             No            1  "
      ]
     },
     "execution_count": 67,
     "metadata": {},
     "output_type": "execute_result"
    }
   ],
   "source": [
    "loanDB = pd.read_csv('../../data/loan_data.csv')\n",
    "loanDB.head(5)"
   ]
  },
  {
   "cell_type": "markdown",
   "id": "2b07950c",
   "metadata": {},
   "source": [
    "---\n",
    "- our target variable is 'loan_status' which indicates whether the loan was approved or not.\n",
    "---"
   ]
  },
  {
   "cell_type": "code",
   "execution_count": 68,
   "id": "00b8701b",
   "metadata": {},
   "outputs": [
    {
     "name": "stdout",
     "output_type": "stream",
     "text": [
      "(45000, 14)\n",
      "<class 'pandas.core.frame.DataFrame'>\n",
      "RangeIndex: 45000 entries, 0 to 44999\n",
      "Data columns (total 14 columns):\n",
      " #   Column                          Non-Null Count  Dtype  \n",
      "---  ------                          --------------  -----  \n",
      " 0   person_age                      45000 non-null  float64\n",
      " 1   person_gender                   45000 non-null  object \n",
      " 2   person_education                45000 non-null  object \n",
      " 3   person_income                   45000 non-null  float64\n",
      " 4   person_emp_exp                  45000 non-null  int64  \n",
      " 5   person_home_ownership           45000 non-null  object \n",
      " 6   loan_amnt                       45000 non-null  float64\n",
      " 7   loan_intent                     45000 non-null  object \n",
      " 8   loan_int_rate                   45000 non-null  float64\n",
      " 9   loan_percent_income             45000 non-null  float64\n",
      " 10  cb_person_cred_hist_length      45000 non-null  float64\n",
      " 11  credit_score                    45000 non-null  int64  \n",
      " 12  previous_loan_defaults_on_file  45000 non-null  object \n",
      " 13  loan_status                     45000 non-null  int64  \n",
      "dtypes: float64(6), int64(3), object(5)\n",
      "memory usage: 4.8+ MB\n"
     ]
    }
   ],
   "source": [
    "print(loanDB.shape)\n",
    "loanDB.info()"
   ]
  },
  {
   "cell_type": "code",
   "execution_count": 69,
   "id": "44881066",
   "metadata": {},
   "outputs": [
    {
     "name": "stderr",
     "output_type": "stream",
     "text": [
      "C:\\Users\\AbdulHadiSaqib\\AppData\\Local\\Temp\\ipykernel_6972\\2083404105.py:10: FutureWarning: \n",
      "\n",
      "Passing `palette` without assigning `hue` is deprecated and will be removed in v0.14.0. Assign the `x` variable to `hue` and set `legend=False` for the same effect.\n",
      "\n",
      "  sns.barplot(x=percentages.index, y=percentages.values, ax=axes[i], palette='pastel')\n",
      "C:\\Users\\AbdulHadiSaqib\\AppData\\Local\\Temp\\ipykernel_6972\\2083404105.py:10: FutureWarning: \n",
      "\n",
      "Passing `palette` without assigning `hue` is deprecated and will be removed in v0.14.0. Assign the `x` variable to `hue` and set `legend=False` for the same effect.\n",
      "\n",
      "  sns.barplot(x=percentages.index, y=percentages.values, ax=axes[i], palette='pastel')\n",
      "C:\\Users\\AbdulHadiSaqib\\AppData\\Local\\Temp\\ipykernel_6972\\2083404105.py:10: FutureWarning: \n",
      "\n",
      "Passing `palette` without assigning `hue` is deprecated and will be removed in v0.14.0. Assign the `x` variable to `hue` and set `legend=False` for the same effect.\n",
      "\n",
      "  sns.barplot(x=percentages.index, y=percentages.values, ax=axes[i], palette='pastel')\n",
      "C:\\Users\\AbdulHadiSaqib\\AppData\\Local\\Temp\\ipykernel_6972\\2083404105.py:10: FutureWarning: \n",
      "\n",
      "Passing `palette` without assigning `hue` is deprecated and will be removed in v0.14.0. Assign the `x` variable to `hue` and set `legend=False` for the same effect.\n",
      "\n",
      "  sns.barplot(x=percentages.index, y=percentages.values, ax=axes[i], palette='pastel')\n",
      "C:\\Users\\AbdulHadiSaqib\\AppData\\Local\\Temp\\ipykernel_6972\\2083404105.py:10: FutureWarning: \n",
      "\n",
      "Passing `palette` without assigning `hue` is deprecated and will be removed in v0.14.0. Assign the `x` variable to `hue` and set `legend=False` for the same effect.\n",
      "\n",
      "  sns.barplot(x=percentages.index, y=percentages.values, ax=axes[i], palette='pastel')\n"
     ]
    },
    {
     "data": {
      "image/png": "[encoded data removed]",
      "text/plain": [
       "<Figure size 1200x1200 with 5 Axes>"
      ]
     },
     "metadata": {},
     "output_type": "display_data"
    }
   ],
   "source": [
    "\n",
    "demographics = loanDB[loanDB.select_dtypes(include=['object']).columns]\n",
    "n_cols = 2  # Number of columns in subplot grid\n",
    "n_rows = int(np.ceil(len(demographics.columns) / n_cols))\n",
    "\n",
    "fig, axes = plt.subplots(n_rows, n_cols, figsize=(12, 4 * n_rows))\n",
    "axes = axes.flatten()\n",
    "\n",
    "for i, col in enumerate(demographics.columns):\n",
    "    percentages = loanDB[col].value_counts(normalize=True) * 100\n",
    "    sns.barplot(x=percentages.index, y=percentages.values, ax=axes[i], palette='pastel')\n",
    "    axes[i].set_title(f\"{col} (%)\")\n",
    "    axes[i].set_ylabel('Percentage')\n",
    "    axes[i].set_ylim(0, 100)\n",
    "    for j, v in enumerate(percentages.values):\n",
    "        axes[i].text(j, v + 1, f\"{v:.1f}%\", ha='center')\n",
    "\n",
    "# Hide any unused subplots\n",
    "for j in range(i + 1, len(axes)):\n",
    "    fig.delaxes(axes[j])\n",
    "\n",
    "plt.tight_layout()\n",
    "plt.show()"
   ]
  },
  {
   "cell_type": "markdown",
   "id": "e021569d",
   "metadata": {},
   "source": [
    "### Now lets check for na and remove if they exist"
   ]
  },
  {
   "cell_type": "code",
   "execution_count": 70,
   "id": "e93dac32",
   "metadata": {},
   "outputs": [
    {
     "data": {
      "text/plain": [
       "person_age                        0\n",
       "person_gender                     0\n",
       "person_education                  0\n",
       "person_income                     0\n",
       "person_emp_exp                    0\n",
       "person_home_ownership             0\n",
       "loan_amnt                         0\n",
       "loan_intent                       0\n",
       "loan_int_rate                     0\n",
       "loan_percent_income               0\n",
       "cb_person_cred_hist_length        0\n",
       "credit_score                      0\n",
       "previous_loan_defaults_on_file    0\n",
       "loan_status                       0\n",
       "dtype: int64"
      ]
     },
     "execution_count": 70,
     "metadata": {},
     "output_type": "execute_result"
    }
   ],
   "source": [
    "loanDB.isnull().sum()"
   ]
  },
  {
   "cell_type": "markdown",
   "id": "70f0e360",
   "metadata": {},
   "source": [
    "## More insights of the dataset\n"
   ]
  },
  {
   "cell_type": "code",
   "execution_count": 71,
   "id": "3226673a",
   "metadata": {},
   "outputs": [
    {
     "name": "stdout",
     "output_type": "stream",
     "text": [
      "['person_gender', 'person_education', 'person_home_ownership', 'loan_intent', 'previous_loan_defaults_on_file']\n"
     ]
    }
   ],
   "source": [
    "object_features = loanDB.select_dtypes(include=['object']).columns.tolist()\n",
    "print(object_features)"
   ]
  },
  {
   "cell_type": "code",
   "execution_count": 72,
   "id": "29f5a4be",
   "metadata": {},
   "outputs": [
    {
     "data": {
      "text/html": [
       "<div>\n",
       "<style scoped>\n",
       "    .dataframe tbody tr th:only-of-type {\n",
       "        vertical-align: middle;\n",
       "    }\n",
       "\n",
       "    .dataframe tbody tr th {\n",
       "        vertical-align: top;\n",
       "    }\n",
       "\n",
       "    .dataframe thead th {\n",
       "        text-align: right;\n",
       "    }\n",
       "</style>\n",
       "<table border=\"1\" class=\"dataframe\">\n",
       "  <thead>\n",
       "    <tr style=\"text-align: right;\">\n",
       "      <th></th>\n",
       "      <th>person_gender</th>\n",
       "      <th>person_education</th>\n",
       "      <th>person_home_ownership</th>\n",
       "      <th>loan_intent</th>\n",
       "      <th>previous_loan_defaults_on_file</th>\n",
       "    </tr>\n",
       "  </thead>\n",
       "  <tbody>\n",
       "    <tr>\n",
       "      <th>0</th>\n",
       "      <td>female</td>\n",
       "      <td>Master</td>\n",
       "      <td>RENT</td>\n",
       "      <td>PERSONAL</td>\n",
       "      <td>No</td>\n",
       "    </tr>\n",
       "    <tr>\n",
       "      <th>1</th>\n",
       "      <td>female</td>\n",
       "      <td>High School</td>\n",
       "      <td>OWN</td>\n",
       "      <td>EDUCATION</td>\n",
       "      <td>Yes</td>\n",
       "    </tr>\n",
       "    <tr>\n",
       "      <th>2</th>\n",
       "      <td>female</td>\n",
       "      <td>High School</td>\n",
       "      <td>MORTGAGE</td>\n",
       "      <td>MEDICAL</td>\n",
       "      <td>No</td>\n",
       "    </tr>\n",
       "    <tr>\n",
       "      <th>3</th>\n",
       "      <td>female</td>\n",
       "      <td>Bachelor</td>\n",
       "      <td>RENT</td>\n",
       "      <td>MEDICAL</td>\n",
       "      <td>No</td>\n",
       "    </tr>\n",
       "    <tr>\n",
       "      <th>4</th>\n",
       "      <td>male</td>\n",
       "      <td>Master</td>\n",
       "      <td>RENT</td>\n",
       "      <td>MEDICAL</td>\n",
       "      <td>No</td>\n",
       "    </tr>\n",
       "    <tr>\n",
       "      <th>...</th>\n",
       "      <td>...</td>\n",
       "      <td>...</td>\n",
       "      <td>...</td>\n",
       "      <td>...</td>\n",
       "      <td>...</td>\n",
       "    </tr>\n",
       "    <tr>\n",
       "      <th>44995</th>\n",
       "      <td>male</td>\n",
       "      <td>Associate</td>\n",
       "      <td>RENT</td>\n",
       "      <td>MEDICAL</td>\n",
       "      <td>No</td>\n",
       "    </tr>\n",
       "    <tr>\n",
       "      <th>44996</th>\n",
       "      <td>female</td>\n",
       "      <td>Associate</td>\n",
       "      <td>RENT</td>\n",
       "      <td>HOMEIMPROVEMENT</td>\n",
       "      <td>No</td>\n",
       "    </tr>\n",
       "    <tr>\n",
       "      <th>44997</th>\n",
       "      <td>male</td>\n",
       "      <td>Associate</td>\n",
       "      <td>RENT</td>\n",
       "      <td>DEBTCONSOLIDATION</td>\n",
       "      <td>No</td>\n",
       "    </tr>\n",
       "    <tr>\n",
       "      <th>44998</th>\n",
       "      <td>male</td>\n",
       "      <td>Bachelor</td>\n",
       "      <td>RENT</td>\n",
       "      <td>EDUCATION</td>\n",
       "      <td>No</td>\n",
       "    </tr>\n",
       "    <tr>\n",
       "      <th>44999</th>\n",
       "      <td>male</td>\n",
       "      <td>High School</td>\n",
       "      <td>RENT</td>\n",
       "      <td>DEBTCONSOLIDATION</td>\n",
       "      <td>No</td>\n",
       "    </tr>\n",
       "  </tbody>\n",
       "</table>\n",
       "<p>45000 rows × 5 columns</p>\n",
       "</div>"
      ],
      "text/plain": [
       "      person_gender person_education person_home_ownership        loan_intent  \\\n",
       "0            female           Master                  RENT           PERSONAL   \n",
       "1            female      High School                   OWN          EDUCATION   \n",
       "2            female      High School              MORTGAGE            MEDICAL   \n",
       "3            female         Bachelor                  RENT            MEDICAL   \n",
       "4              male           Master                  RENT            MEDICAL   \n",
       "...             ...              ...                   ...                ...   \n",
       "44995          male        Associate                  RENT            MEDICAL   \n",
       "44996        female        Associate                  RENT    HOMEIMPROVEMENT   \n",
       "44997          male        Associate                  RENT  DEBTCONSOLIDATION   \n",
       "44998          male         Bachelor                  RENT          EDUCATION   \n",
       "44999          male      High School                  RENT  DEBTCONSOLIDATION   \n",
       "\n",
       "      previous_loan_defaults_on_file  \n",
       "0                                 No  \n",
       "1                                Yes  \n",
       "2                                 No  \n",
       "3                                 No  \n",
       "4                                 No  \n",
       "...                              ...  \n",
       "44995                             No  \n",
       "44996                             No  \n",
       "44997                             No  \n",
       "44998                             No  \n",
       "44999                             No  \n",
       "\n",
       "[45000 rows x 5 columns]"
      ]
     },
     "execution_count": 72,
     "metadata": {},
     "output_type": "execute_result"
    }
   ],
   "source": [
    "loanDB[object_features]"
   ]
  },
  {
   "cell_type": "markdown",
   "id": "af2f9dee",
   "metadata": {},
   "source": [
    "---\n",
    "### Lets check for outliers and deal with them\n",
    "---"
   ]
  },
  {
   "cell_type": "code",
   "execution_count": 73,
   "id": "84381682",
   "metadata": {},
   "outputs": [
    {
     "data": {
      "image/png": "[encoded data removed]",
      "text/plain": [
       "<Figure size 600x100 with 1 Axes>"
      ]
     },
     "metadata": {},
     "output_type": "display_data"
    },
    {
     "name": "stdout",
     "output_type": "stream",
     "text": [
      "Total percent of outliers in person_age: 4.86%\n"
     ]
    },
    {
     "data": {
      "image/png": "[encoded data removed]",
      "text/plain": [
       "<Figure size 600x100 with 1 Axes>"
      ]
     },
     "metadata": {},
     "output_type": "display_data"
    },
    {
     "name": "stdout",
     "output_type": "stream",
     "text": [
      "Total percent of outliers in person_income: 4.93%\n"
     ]
    },
    {
     "data": {
      "image/png": "[encoded data removed]",
      "text/plain": [
       "<Figure size 600x100 with 1 Axes>"
      ]
     },
     "metadata": {},
     "output_type": "display_data"
    },
    {
     "name": "stdout",
     "output_type": "stream",
     "text": [
      "Total percent of outliers in person_emp_exp: 3.83%\n"
     ]
    },
    {
     "data": {
      "image/png": "[encoded data removed]",
      "text/plain": [
       "<Figure size 600x100 with 1 Axes>"
      ]
     },
     "metadata": {},
     "output_type": "display_data"
    },
    {
     "name": "stdout",
     "output_type": "stream",
     "text": [
      "Total percent of outliers in loan_amnt: 5.22%\n"
     ]
    },
    {
     "data": {
      "image/png": "[encoded data removed]",
      "text/plain": [
       "<Figure size 600x100 with 1 Axes>"
      ]
     },
     "metadata": {},
     "output_type": "display_data"
    },
    {
     "name": "stdout",
     "output_type": "stream",
     "text": [
      "Total percent of outliers in loan_int_rate: 0.28%\n"
     ]
    },
    {
     "data": {
      "image/png": "[encoded data removed]",
      "text/plain": [
       "<Figure size 600x100 with 1 Axes>"
      ]
     },
     "metadata": {},
     "output_type": "display_data"
    },
    {
     "name": "stdout",
     "output_type": "stream",
     "text": [
      "Total percent of outliers in loan_percent_income: 1.65%\n"
     ]
    },
    {
     "data": {
      "image/png": "[encoded data removed]",
      "text/plain": [
       "<Figure size 600x100 with 1 Axes>"
      ]
     },
     "metadata": {},
     "output_type": "display_data"
    },
    {
     "name": "stdout",
     "output_type": "stream",
     "text": [
      "Total percent of outliers in cb_person_cred_hist_length: 3.04%\n"
     ]
    },
    {
     "data": {
      "image/png": "[encoded data removed]",
      "text/plain": [
       "<Figure size 600x100 with 1 Axes>"
      ]
     },
     "metadata": {},
     "output_type": "display_data"
    },
    {
     "name": "stdout",
     "output_type": "stream",
     "text": [
      "Total percent of outliers in credit_score: 1.04%\n"
     ]
    },
    {
     "data": {
      "image/png": "[encoded data removed]",
      "text/plain": [
       "<Figure size 600x100 with 1 Axes>"
      ]
     },
     "metadata": {},
     "output_type": "display_data"
    },
    {
     "name": "stdout",
     "output_type": "stream",
     "text": [
      "Total percent of outliers in loan_status: 22.22%\n"
     ]
    }
   ],
   "source": [
    "\n",
    "for col in loanDB.select_dtypes(include='number').columns:\n",
    "    plt.figure(figsize=(6, 1))\n",
    "    sns.boxplot(x=loanDB[col])\n",
    "    plt.title(col)\n",
    "    plt.show()\n",
    "    q1 = loanDB[col].quantile(0.25)\n",
    "    q3 = loanDB[col].quantile(0.75)\n",
    "    iqr = q3 - q1\n",
    "    lower_bound = q1 - 1.5 * iqr\n",
    "    upper_bound = q3 + 1.5 * iqr\n",
    "    outliers = loanDB[(loanDB[col] < lower_bound) | (loanDB[col] > upper_bound)]\n",
    "    percent_outliers = (len(outliers) / len(loanDB)) * 100\n",
    "    print(f\"Total percent of outliers in {col}: {percent_outliers:.2f}%\")\n"
   ]
  },
  {
   "cell_type": "markdown",
   "id": "f5dd531f",
   "metadata": {},
   "source": [
    "- Lets Cap the outliers in the numerical columns\n",
    "---"
   ]
  },
  {
   "cell_type": "code",
   "execution_count": 74,
   "id": "3e6c6185",
   "metadata": {},
   "outputs": [],
   "source": [
    "cols = ['loan_amnt', 'person_income', 'loan_percent_income']\n",
    "\n",
    "for col in cols:\n",
    "    q1 = loanDB[col].quantile(0.25)\n",
    "    q3 = loanDB[col].quantile(0.75)\n",
    "    iqr = q3 - q1\n",
    "    lower_bound = q1 - 1.5 * iqr\n",
    "    upper_bound = q3 + 1.5 * iqr\n",
    "    loanDB[col] = loanDB[col].clip(lower=lower_bound, upper=upper_bound)"
   ]
  },
  {
   "cell_type": "markdown",
   "id": "48bf51b1",
   "metadata": {},
   "source": [
    "- So not much correlation with anyone but loan_percent_income , loan_int_rate have a good correlation while loan amount and person_income have a healthy correlation "
   ]
  },
  {
   "cell_type": "markdown",
   "id": "d2796188",
   "metadata": {},
   "source": [
    "---\n",
    "- will apply binary encoding in : gender and previous loan status\n",
    "- And will apply  Ordinal Encoding on: education\n",
    "- While one hot on the rest of the columns\n",
    "---"
   ]
  },
  {
   "cell_type": "code",
   "execution_count": 75,
   "id": "6903d3ed",
   "metadata": {},
   "outputs": [],
   "source": [
    "# Only encode if dtype is object (not already numeric)\n",
    "if loanDB['person_gender'].dtype == 'object':\n",
    "    loanDB['person_gender'] = loanDB['person_gender'].map({'female': 0, 'male': 1})\n",
    "\n",
    "if loanDB['previous_loan_defaults_on_file'].dtype == 'object':\n",
    "    loanDB['previous_loan_defaults_on_file'] = loanDB['previous_loan_defaults_on_file'].map({'No': 0, 'Yes': 1})"
   ]
  },
  {
   "cell_type": "code",
   "execution_count": 76,
   "id": "b233daed",
   "metadata": {},
   "outputs": [],
   "source": [
    "#lets do label encoding on education\n",
    "if loanDB['person_education'].dtype == 'object':\n",
    "    loanDB['person_education'] = loanDB['person_education'].map({\n",
    "        'High School': 0,\n",
    "        'Associate': 1,\n",
    "        'Bachelor': 2,\n",
    "        'Master': 3,\n",
    "        'Doctorate': 4\n",
    "    })"
   ]
  },
  {
   "cell_type": "code",
   "execution_count": 77,
   "id": "9b764500",
   "metadata": {},
   "outputs": [
    {
     "data": {
      "text/plain": [
       "person_education\n",
       "2    13399\n",
       "1    12028\n",
       "0    11972\n",
       "3     6980\n",
       "4      621\n",
       "Name: count, dtype: int64"
      ]
     },
     "execution_count": 77,
     "metadata": {},
     "output_type": "execute_result"
    }
   ],
   "source": [
    "loanDB['person_education'].value_counts()"
   ]
  },
  {
   "cell_type": "code",
   "execution_count": 78,
   "id": "8b9b7106",
   "metadata": {},
   "outputs": [
    {
     "data": {
      "text/plain": [
       "['person_home_ownership', 'loan_intent']"
      ]
     },
     "execution_count": 78,
     "metadata": {},
     "output_type": "execute_result"
    }
   ],
   "source": [
    "#One hot encoding for categorical variables\n",
    "categorical_features = loanDB.select_dtypes(include=['object']).columns.tolist()\n",
    "categorical_features"
   ]
  },
  {
   "cell_type": "code",
   "execution_count": 79,
   "id": "fe7fa729",
   "metadata": {},
   "outputs": [
    {
     "data": {
      "text/plain": [
       "person_home_ownership\n",
       "RENT        23443\n",
       "MORTGAGE    18489\n",
       "OWN          2951\n",
       "OTHER         117\n",
       "Name: count, dtype: int64"
      ]
     },
     "execution_count": 79,
     "metadata": {},
     "output_type": "execute_result"
    }
   ],
   "source": [
    "loanDB['person_home_ownership'].value_counts()"
   ]
  },
  {
   "cell_type": "code",
   "execution_count": 80,
   "id": "ca9432d9",
   "metadata": {},
   "outputs": [],
   "source": [
    "loanDB = pd.get_dummies(loanDB, columns=['person_home_ownership', 'loan_intent'], drop_first=True)"
   ]
  },
  {
   "cell_type": "code",
   "execution_count": 81,
   "id": "0790e341",
   "metadata": {},
   "outputs": [
    {
     "data": {
      "text/html": [
       "<div>\n",
       "<style scoped>\n",
       "    .dataframe tbody tr th:only-of-type {\n",
       "        vertical-align: middle;\n",
       "    }\n",
       "\n",
       "    .dataframe tbody tr th {\n",
       "        vertical-align: top;\n",
       "    }\n",
       "\n",
       "    .dataframe thead th {\n",
       "        text-align: right;\n",
       "    }\n",
       "</style>\n",
       "<table border=\"1\" class=\"dataframe\">\n",
       "  <thead>\n",
       "    <tr style=\"text-align: right;\">\n",
       "      <th></th>\n",
       "      <th>person_age</th>\n",
       "      <th>person_gender</th>\n",
       "      <th>person_education</th>\n",
       "      <th>person_income</th>\n",
       "      <th>person_emp_exp</th>\n",
       "      <th>loan_amnt</th>\n",
       "      <th>loan_int_rate</th>\n",
       "      <th>loan_percent_income</th>\n",
       "      <th>cb_person_cred_hist_length</th>\n",
       "      <th>credit_score</th>\n",
       "      <th>previous_loan_defaults_on_file</th>\n",
       "      <th>loan_status</th>\n",
       "      <th>person_home_ownership_OTHER</th>\n",
       "      <th>person_home_ownership_OWN</th>\n",
       "      <th>person_home_ownership_RENT</th>\n",
       "      <th>loan_intent_EDUCATION</th>\n",
       "      <th>loan_intent_HOMEIMPROVEMENT</th>\n",
       "      <th>loan_intent_MEDICAL</th>\n",
       "      <th>loan_intent_PERSONAL</th>\n",
       "      <th>loan_intent_VENTURE</th>\n",
       "    </tr>\n",
       "  </thead>\n",
       "  <tbody>\n",
       "    <tr>\n",
       "      <th>0</th>\n",
       "      <td>22.0</td>\n",
       "      <td>0</td>\n",
       "      <td>3</td>\n",
       "      <td>71948.0</td>\n",
       "      <td>0</td>\n",
       "      <td>23093.125</td>\n",
       "      <td>16.02</td>\n",
       "      <td>0.37</td>\n",
       "      <td>3.0</td>\n",
       "      <td>561</td>\n",
       "      <td>0</td>\n",
       "      <td>1</td>\n",
       "      <td>False</td>\n",
       "      <td>False</td>\n",
       "      <td>True</td>\n",
       "      <td>False</td>\n",
       "      <td>False</td>\n",
       "      <td>False</td>\n",
       "      <td>True</td>\n",
       "      <td>False</td>\n",
       "    </tr>\n",
       "    <tr>\n",
       "      <th>1</th>\n",
       "      <td>21.0</td>\n",
       "      <td>0</td>\n",
       "      <td>0</td>\n",
       "      <td>12282.0</td>\n",
       "      <td>0</td>\n",
       "      <td>1000.000</td>\n",
       "      <td>11.14</td>\n",
       "      <td>0.08</td>\n",
       "      <td>2.0</td>\n",
       "      <td>504</td>\n",
       "      <td>1</td>\n",
       "      <td>0</td>\n",
       "      <td>False</td>\n",
       "      <td>True</td>\n",
       "      <td>False</td>\n",
       "      <td>True</td>\n",
       "      <td>False</td>\n",
       "      <td>False</td>\n",
       "      <td>False</td>\n",
       "      <td>False</td>\n",
       "    </tr>\n",
       "    <tr>\n",
       "      <th>2</th>\n",
       "      <td>25.0</td>\n",
       "      <td>0</td>\n",
       "      <td>0</td>\n",
       "      <td>12438.0</td>\n",
       "      <td>3</td>\n",
       "      <td>5500.000</td>\n",
       "      <td>12.87</td>\n",
       "      <td>0.37</td>\n",
       "      <td>3.0</td>\n",
       "      <td>635</td>\n",
       "      <td>0</td>\n",
       "      <td>1</td>\n",
       "      <td>False</td>\n",
       "      <td>False</td>\n",
       "      <td>False</td>\n",
       "      <td>False</td>\n",
       "      <td>False</td>\n",
       "      <td>True</td>\n",
       "      <td>False</td>\n",
       "      <td>False</td>\n",
       "    </tr>\n",
       "    <tr>\n",
       "      <th>3</th>\n",
       "      <td>23.0</td>\n",
       "      <td>0</td>\n",
       "      <td>2</td>\n",
       "      <td>79753.0</td>\n",
       "      <td>0</td>\n",
       "      <td>23093.125</td>\n",
       "      <td>15.23</td>\n",
       "      <td>0.37</td>\n",
       "      <td>2.0</td>\n",
       "      <td>675</td>\n",
       "      <td>0</td>\n",
       "      <td>1</td>\n",
       "      <td>False</td>\n",
       "      <td>False</td>\n",
       "      <td>True</td>\n",
       "      <td>False</td>\n",
       "      <td>False</td>\n",
       "      <td>True</td>\n",
       "      <td>False</td>\n",
       "      <td>False</td>\n",
       "    </tr>\n",
       "    <tr>\n",
       "      <th>4</th>\n",
       "      <td>24.0</td>\n",
       "      <td>1</td>\n",
       "      <td>3</td>\n",
       "      <td>66135.0</td>\n",
       "      <td>1</td>\n",
       "      <td>23093.125</td>\n",
       "      <td>14.27</td>\n",
       "      <td>0.37</td>\n",
       "      <td>4.0</td>\n",
       "      <td>586</td>\n",
       "      <td>0</td>\n",
       "      <td>1</td>\n",
       "      <td>False</td>\n",
       "      <td>False</td>\n",
       "      <td>True</td>\n",
       "      <td>False</td>\n",
       "      <td>False</td>\n",
       "      <td>True</td>\n",
       "      <td>False</td>\n",
       "      <td>False</td>\n",
       "    </tr>\n",
       "  </tbody>\n",
       "</table>\n",
       "</div>"
      ],
      "text/plain": [
       "   person_age  person_gender  person_education  person_income  person_emp_exp  \\\n",
       "0        22.0              0                 3        71948.0               0   \n",
       "1        21.0              0                 0        12282.0               0   \n",
       "2        25.0              0                 0        12438.0               3   \n",
       "3        23.0              0                 2        79753.0               0   \n",
       "4        24.0              1                 3        66135.0               1   \n",
       "\n",
       "   loan_amnt  loan_int_rate  loan_percent_income  cb_person_cred_hist_length  \\\n",
       "0  23093.125          16.02                 0.37                         3.0   \n",
       "1   1000.000          11.14                 0.08                         2.0   \n",
       "2   5500.000          12.87                 0.37                         3.0   \n",
       "3  23093.125          15.23                 0.37                         2.0   \n",
       "4  23093.125          14.27                 0.37                         4.0   \n",
       "\n",
       "   credit_score  previous_loan_defaults_on_file  loan_status  \\\n",
       "0           561                               0            1   \n",
       "1           504                               1            0   \n",
       "2           635                               0            1   \n",
       "3           675                               0            1   \n",
       "4           586                               0            1   \n",
       "\n",
       "   person_home_ownership_OTHER  person_home_ownership_OWN  \\\n",
       "0                        False                      False   \n",
       "1                        False                       True   \n",
       "2                        False                      False   \n",
       "3                        False                      False   \n",
       "4                        False                      False   \n",
       "\n",
       "   person_home_ownership_RENT  loan_intent_EDUCATION  \\\n",
       "0                        True                  False   \n",
       "1                       False                   True   \n",
       "2                       False                  False   \n",
       "3                        True                  False   \n",
       "4                        True                  False   \n",
       "\n",
       "   loan_intent_HOMEIMPROVEMENT  loan_intent_MEDICAL  loan_intent_PERSONAL  \\\n",
       "0                        False                False                  True   \n",
       "1                        False                False                 False   \n",
       "2                        False                 True                 False   \n",
       "3                        False                 True                 False   \n",
       "4                        False                 True                 False   \n",
       "\n",
       "   loan_intent_VENTURE  \n",
       "0                False  \n",
       "1                False  \n",
       "2                False  \n",
       "3                False  \n",
       "4                False  "
      ]
     },
     "execution_count": 81,
     "metadata": {},
     "output_type": "execute_result"
    }
   ],
   "source": [
    "loanDB.head()"
   ]
  },
  {
   "cell_type": "code",
   "execution_count": 82,
   "id": "4c40c628",
   "metadata": {},
   "outputs": [
    {
     "name": "stdout",
     "output_type": "stream",
     "text": [
      "int64\n"
     ]
    }
   ],
   "source": [
    "# Now lets change the age to int\n",
    "loanDB['person_age'] = loanDB['person_age'].astype(int)\n",
    "print(loanDB['person_age'].dtype)"
   ]
  },
  {
   "cell_type": "markdown",
   "id": "7096c8d1",
   "metadata": {},
   "source": [
    "---\n",
    "- Now lets do the correlation stuff\n",
    "---"
   ]
  },
  {
   "cell_type": "code",
   "execution_count": 83,
   "id": "4eddb045",
   "metadata": {},
   "outputs": [
    {
     "name": "stdout",
     "output_type": "stream",
     "text": [
      "Correlation with loan_status:\n",
      "loan_status                       1.000000\n",
      "loan_percent_income               0.384660\n",
      "loan_int_rate                     0.332005\n",
      "person_home_ownership_RENT        0.255239\n",
      "loan_amnt                         0.107306\n",
      "loan_intent_MEDICAL               0.065195\n",
      "loan_intent_HOMEIMPROVEMENT       0.033838\n",
      "person_home_ownership_OTHER       0.013645\n",
      "person_gender                    -0.000561\n",
      "person_education                 -0.001108\n",
      "credit_score                     -0.007647\n",
      "cb_person_cred_hist_length       -0.014851\n",
      "person_emp_exp                   -0.020481\n",
      "person_age                       -0.021476\n",
      "loan_intent_PERSONAL             -0.022488\n",
      "loan_intent_EDUCATION            -0.064006\n",
      "loan_intent_VENTURE              -0.085992\n",
      "person_home_ownership_OWN        -0.093666\n",
      "person_income                    -0.249146\n",
      "previous_loan_defaults_on_file   -0.543096\n",
      "Name: loan_status, dtype: float64\n"
     ]
    },
    {
     "name": "stderr",
     "output_type": "stream",
     "text": [
      "C:\\Users\\AbdulHadiSaqib\\AppData\\Local\\Temp\\ipykernel_6972\\1332819844.py:9: FutureWarning: \n",
      "\n",
      "Passing `palette` without assigning `hue` is deprecated and will be removed in v0.14.0. Assign the `y` variable to `hue` and set `legend=False` for the same effect.\n",
      "\n",
      "  sns.barplot(x=target_corr_filtered.values, y=target_corr_filtered.index, palette='coolwarm')\n"
     ]
    },
    {
     "data": {
      "image/png": "[encoded data removed]",
      "text/plain": [
       "<Figure size 1000x800 with 1 Axes>"
      ]
     },
     "metadata": {},
     "output_type": "display_data"
    }
   ],
   "source": [
    "# Correlation with target variable only\n",
    "target_corr = loanDB.corr()['loan_status'].sort_values(ascending=False)\n",
    "print(\"Correlation with loan_status:\")\n",
    "print(target_corr)\n",
    "\n",
    "# Visualize correlations with target variable\n",
    "plt.figure(figsize=(10, 8))\n",
    "target_corr_filtered = target_corr.drop('loan_status')  # Remove self-correlation\n",
    "sns.barplot(x=target_corr_filtered.values, y=target_corr_filtered.index, palette='coolwarm')\n",
    "plt.title('Feature Correlation with Loan Status')\n",
    "plt.xlabel('Correlation Coefficient')\n",
    "plt.show()"
   ]
  },
  {
   "cell_type": "code",
   "execution_count": 84,
   "id": "b657edb2",
   "metadata": {},
   "outputs": [],
   "source": [
    "loanDB.drop(columns=['person_gender','person_education','credit_score','person_emp_exp' ,'cb_person_cred_hist_length','person_age'], inplace=True)"
   ]
  },
  {
   "cell_type": "code",
   "execution_count": 85,
   "id": "d2cbbcb8",
   "metadata": {},
   "outputs": [
    {
     "data": {
      "text/plain": [
       "(45000, 14)"
      ]
     },
     "execution_count": 85,
     "metadata": {},
     "output_type": "execute_result"
    }
   ],
   "source": [
    "loanDB.shape"
   ]
  },
  {
   "cell_type": "code",
   "execution_count": 86,
   "id": "af505776",
   "metadata": {},
   "outputs": [
    {
     "data": {
      "text/plain": [
       "person_income                     float64\n",
       "loan_amnt                         float64\n",
       "loan_int_rate                     float64\n",
       "loan_percent_income               float64\n",
       "previous_loan_defaults_on_file      int64\n",
       "loan_status                         int64\n",
       "person_home_ownership_OTHER          bool\n",
       "person_home_ownership_OWN            bool\n",
       "person_home_ownership_RENT           bool\n",
       "loan_intent_EDUCATION                bool\n",
       "loan_intent_HOMEIMPROVEMENT          bool\n",
       "loan_intent_MEDICAL                  bool\n",
       "loan_intent_PERSONAL                 bool\n",
       "loan_intent_VENTURE                  bool\n",
       "dtype: object"
      ]
     },
     "execution_count": 86,
     "metadata": {},
     "output_type": "execute_result"
    }
   ],
   "source": [
    "loanDB.dtypes"
   ]
  },
  {
   "cell_type": "code",
   "execution_count": 87,
   "id": "04775e3d",
   "metadata": {},
   "outputs": [
    {
     "name": "stdout",
     "output_type": "stream",
     "text": [
      "                           feature        VIF\n",
      "0                            const  47.009324\n",
      "1                    person_income   4.399825\n",
      "2                        loan_amnt   6.052647\n",
      "3                    loan_int_rate   1.078002\n",
      "4              loan_percent_income   5.790769\n",
      "5   previous_loan_defaults_on_file   1.099179\n",
      "6      person_home_ownership_OTHER   1.005173\n",
      "7        person_home_ownership_OWN   1.143792\n",
      "8       person_home_ownership_RENT   1.292601\n",
      "9            loan_intent_EDUCATION   1.830347\n",
      "10     loan_intent_HOMEIMPROVEMENT   1.505193\n",
      "11             loan_intent_MEDICAL   1.789195\n",
      "12            loan_intent_PERSONAL   1.720839\n",
      "13             loan_intent_VENTURE   1.761751\n"
     ]
    }
   ],
   "source": [
    "from statsmodels.tools.tools import add_constant\n",
    "\n",
    "X = loanDB.drop(columns=['loan_status'])  \n",
    "X = X.astype({col: int for col in X.select_dtypes(include='bool').columns})\n",
    "\n",
    "# target column\n",
    "X = add_constant(X)  # adds intercept term\n",
    "\n",
    "vif = pd.DataFrame()\n",
    "vif[\"feature\"] = X.columns\n",
    "vif[\"VIF\"] = [variance_inflation_factor(X.values, i) for i in range(X.shape[1])]\n",
    "print(vif)"
   ]
  },
  {
   "cell_type": "markdown",
   "id": "d53cfe67",
   "metadata": {},
   "source": [
    "---\n",
    "- As loan_percent_income is derived from person_income and loan_amount, we can drop person_income and loan_amount\n",
    "---"
   ]
  },
  {
   "cell_type": "code",
   "execution_count": 88,
   "id": "dc86cd86",
   "metadata": {},
   "outputs": [],
   "source": [
    "loanDB.drop(columns =['loan_amnt','person_income'], inplace=True)"
   ]
  },
  {
   "cell_type": "code",
   "execution_count": 89,
   "id": "5313894f",
   "metadata": {},
   "outputs": [
    {
     "data": {
      "text/html": [
       "<div>\n",
       "<style scoped>\n",
       "    .dataframe tbody tr th:only-of-type {\n",
       "        vertical-align: middle;\n",
       "    }\n",
       "\n",
       "    .dataframe tbody tr th {\n",
       "        vertical-align: top;\n",
       "    }\n",
       "\n",
       "    .dataframe thead th {\n",
       "        text-align: right;\n",
       "    }\n",
       "</style>\n",
       "<table border=\"1\" class=\"dataframe\">\n",
       "  <thead>\n",
       "    <tr style=\"text-align: right;\">\n",
       "      <th></th>\n",
       "      <th>loan_int_rate</th>\n",
       "      <th>loan_percent_income</th>\n",
       "      <th>previous_loan_defaults_on_file</th>\n",
       "      <th>loan_status</th>\n",
       "      <th>person_home_ownership_OTHER</th>\n",
       "      <th>person_home_ownership_OWN</th>\n",
       "      <th>person_home_ownership_RENT</th>\n",
       "      <th>loan_intent_EDUCATION</th>\n",
       "      <th>loan_intent_HOMEIMPROVEMENT</th>\n",
       "      <th>loan_intent_MEDICAL</th>\n",
       "      <th>loan_intent_PERSONAL</th>\n",
       "      <th>loan_intent_VENTURE</th>\n",
       "    </tr>\n",
       "  </thead>\n",
       "  <tbody>\n",
       "    <tr>\n",
       "      <th>0</th>\n",
       "      <td>16.02</td>\n",
       "      <td>0.37</td>\n",
       "      <td>0</td>\n",
       "      <td>1</td>\n",
       "      <td>False</td>\n",
       "      <td>False</td>\n",
       "      <td>True</td>\n",
       "      <td>False</td>\n",
       "      <td>False</td>\n",
       "      <td>False</td>\n",
       "      <td>True</td>\n",
       "      <td>False</td>\n",
       "    </tr>\n",
       "    <tr>\n",
       "      <th>1</th>\n",
       "      <td>11.14</td>\n",
       "      <td>0.08</td>\n",
       "      <td>1</td>\n",
       "      <td>0</td>\n",
       "      <td>False</td>\n",
       "      <td>True</td>\n",
       "      <td>False</td>\n",
       "      <td>True</td>\n",
       "      <td>False</td>\n",
       "      <td>False</td>\n",
       "      <td>False</td>\n",
       "      <td>False</td>\n",
       "    </tr>\n",
       "    <tr>\n",
       "      <th>2</th>\n",
       "      <td>12.87</td>\n",
       "      <td>0.37</td>\n",
       "      <td>0</td>\n",
       "      <td>1</td>\n",
       "      <td>False</td>\n",
       "      <td>False</td>\n",
       "      <td>False</td>\n",
       "      <td>False</td>\n",
       "      <td>False</td>\n",
       "      <td>True</td>\n",
       "      <td>False</td>\n",
       "      <td>False</td>\n",
       "    </tr>\n",
       "    <tr>\n",
       "      <th>3</th>\n",
       "      <td>15.23</td>\n",
       "      <td>0.37</td>\n",
       "      <td>0</td>\n",
       "      <td>1</td>\n",
       "      <td>False</td>\n",
       "      <td>False</td>\n",
       "      <td>True</td>\n",
       "      <td>False</td>\n",
       "      <td>False</td>\n",
       "      <td>True</td>\n",
       "      <td>False</td>\n",
       "      <td>False</td>\n",
       "    </tr>\n",
       "    <tr>\n",
       "      <th>4</th>\n",
       "      <td>14.27</td>\n",
       "      <td>0.37</td>\n",
       "      <td>0</td>\n",
       "      <td>1</td>\n",
       "      <td>False</td>\n",
       "      <td>False</td>\n",
       "      <td>True</td>\n",
       "      <td>False</td>\n",
       "      <td>False</td>\n",
       "      <td>True</td>\n",
       "      <td>False</td>\n",
       "      <td>False</td>\n",
       "    </tr>\n",
       "  </tbody>\n",
       "</table>\n",
       "</div>"
      ],
      "text/plain": [
       "   loan_int_rate  loan_percent_income  previous_loan_defaults_on_file  \\\n",
       "0          16.02                 0.37                               0   \n",
       "1          11.14                 0.08                               1   \n",
       "2          12.87                 0.37                               0   \n",
       "3          15.23                 0.37                               0   \n",
       "4          14.27                 0.37                               0   \n",
       "\n",
       "   loan_status  person_home_ownership_OTHER  person_home_ownership_OWN  \\\n",
       "0            1                        False                      False   \n",
       "1            0                        False                       True   \n",
       "2            1                        False                      False   \n",
       "3            1                        False                      False   \n",
       "4            1                        False                      False   \n",
       "\n",
       "   person_home_ownership_RENT  loan_intent_EDUCATION  \\\n",
       "0                        True                  False   \n",
       "1                       False                   True   \n",
       "2                       False                  False   \n",
       "3                        True                  False   \n",
       "4                        True                  False   \n",
       "\n",
       "   loan_intent_HOMEIMPROVEMENT  loan_intent_MEDICAL  loan_intent_PERSONAL  \\\n",
       "0                        False                False                  True   \n",
       "1                        False                False                 False   \n",
       "2                        False                 True                 False   \n",
       "3                        False                 True                 False   \n",
       "4                        False                 True                 False   \n",
       "\n",
       "   loan_intent_VENTURE  \n",
       "0                False  \n",
       "1                False  \n",
       "2                False  \n",
       "3                False  \n",
       "4                False  "
      ]
     },
     "execution_count": 89,
     "metadata": {},
     "output_type": "execute_result"
    }
   ],
   "source": [
    "loanDB.head()"
   ]
  }
 ],
 "metadata": {
  "kernelspec": {
   "display_name": "venv",
   "language": "python",
   "name": "python3"
  },
  "language_info": {
   "codemirror_mode": {
    "name": "ipython",
    "version": 3
   },
   "file_extension": ".py",
   "mimetype": "text/x-python",
   "name": "python",
   "nbconvert_exporter": "python",
   "pygments_lexer": "ipython3",
   "version": "3.13.0"
  }
 },
 "nbformat": 4,
 "nbformat_minor": 5
}
